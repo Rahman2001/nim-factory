{
 "cells": [
  {
   "cell_type": "code",
   "execution_count": 2,
   "id": "f281115a-9c53-41ed-b9e3-d0d82106b228",
   "metadata": {
    "scrolled": true
   },
   "outputs": [
    {
     "name": "stdout",
     "output_type": "stream",
     "text": [
      "Defaulting to user installation because normal site-packages is not writeable\n",
      "Looking in indexes: https://pypi.org/simple, https://pypi.nvidia.com\n",
      "Requirement already satisfied: accelerate>=0.25.0 in /home/workbench/.local/lib/python3.10/site-packages (from -r code/TensorRT-LLM/requirements.txt (line 2)) (1.0.0rc1)\n",
      "Requirement already satisfied: build in /home/workbench/.local/lib/python3.10/site-packages (from -r code/TensorRT-LLM/requirements.txt (line 3)) (1.2.2)\n",
      "Requirement already satisfied: colored in /home/workbench/.local/lib/python3.10/site-packages (from -r code/TensorRT-LLM/requirements.txt (line 4)) (2.2.4)\n",
      "Requirement already satisfied: cuda-python in /home/workbench/.local/lib/python3.10/site-packages (from -r code/TensorRT-LLM/requirements.txt (line 5)) (12.6.0)\n",
      "Requirement already satisfied: diffusers>=0.27.0 in /home/workbench/.local/lib/python3.10/site-packages (from -r code/TensorRT-LLM/requirements.txt (line 6)) (0.30.3)\n",
      "Requirement already satisfied: lark in /home/workbench/.local/lib/python3.10/site-packages (from -r code/TensorRT-LLM/requirements.txt (line 7)) (1.2.2)\n",
      "Requirement already satisfied: mpi4py in /home/workbench/.local/lib/python3.10/site-packages (from -r code/TensorRT-LLM/requirements.txt (line 8)) (4.0.0)\n",
      "Requirement already satisfied: numpy<2 in /home/workbench/.local/lib/python3.10/site-packages (from -r code/TensorRT-LLM/requirements.txt (line 9)) (1.26.4)\n",
      "Requirement already satisfied: onnx>=1.12.0 in /home/workbench/.local/lib/python3.10/site-packages (from -r code/TensorRT-LLM/requirements.txt (line 10)) (1.16.2)\n",
      "Requirement already satisfied: openai==1.39.0 in /home/workbench/.local/lib/python3.10/site-packages (from -r code/TensorRT-LLM/requirements.txt (line 11)) (1.39.0)\n",
      "Requirement already satisfied: polygraphy in /home/workbench/.local/lib/python3.10/site-packages (from -r code/TensorRT-LLM/requirements.txt (line 12)) (0.49.9)\n",
      "Requirement already satisfied: psutil in /usr/local/lib/python3.10/dist-packages (from -r code/TensorRT-LLM/requirements.txt (line 13)) (5.9.6)\n",
      "Requirement already satisfied: pynvml>=11.5.0 in /home/workbench/.local/lib/python3.10/site-packages (from -r code/TensorRT-LLM/requirements.txt (line 14)) (11.5.3)\n",
      "Requirement already satisfied: pulp in /home/workbench/.local/lib/python3.10/site-packages (from -r code/TensorRT-LLM/requirements.txt (line 15)) (2.9.0)\n",
      "Requirement already satisfied: pandas in /home/workbench/.local/lib/python3.10/site-packages (from -r code/TensorRT-LLM/requirements.txt (line 16)) (2.2.3)\n",
      "Requirement already satisfied: h5py==3.10.0 in /home/workbench/.local/lib/python3.10/site-packages (from -r code/TensorRT-LLM/requirements.txt (line 17)) (3.10.0)\n",
      "Requirement already satisfied: StrEnum in /home/workbench/.local/lib/python3.10/site-packages (from -r code/TensorRT-LLM/requirements.txt (line 18)) (0.4.15)\n",
      "Requirement already satisfied: sentencepiece>=0.1.99 in /home/workbench/.local/lib/python3.10/site-packages (from -r code/TensorRT-LLM/requirements.txt (line 19)) (0.1.99)\n",
      "Requirement already satisfied: tensorrt~=10.4.0 in /home/workbench/.local/lib/python3.10/site-packages (from -r code/TensorRT-LLM/requirements.txt (line 20)) (10.4.0)\n",
      "Requirement already satisfied: torch<=2.4.0,>=2.4.0a0 in /home/workbench/.local/lib/python3.10/site-packages (from -r code/TensorRT-LLM/requirements.txt (line 23)) (2.4.0)\n",
      "Requirement already satisfied: nvidia-modelopt~=0.15.0 in /home/workbench/.local/lib/python3.10/site-packages (from -r code/TensorRT-LLM/requirements.txt (line 24)) (0.15.1)\n",
      "Requirement already satisfied: transformers<=4.42.4,>=4.38.2 in /home/workbench/.local/lib/python3.10/site-packages (from -r code/TensorRT-LLM/requirements.txt (line 25)) (4.42.4)\n",
      "Requirement already satisfied: pillow==10.3.0 in /home/workbench/.local/lib/python3.10/site-packages (from -r code/TensorRT-LLM/requirements.txt (line 26)) (10.3.0)\n",
      "Requirement already satisfied: wheel in /usr/lib/python3/dist-packages (from -r code/TensorRT-LLM/requirements.txt (line 27)) (0.37.1)\n",
      "Requirement already satisfied: optimum in /home/workbench/.local/lib/python3.10/site-packages (from -r code/TensorRT-LLM/requirements.txt (line 28)) (1.22.0)\n",
      "Requirement already satisfied: evaluate in /home/workbench/.local/lib/python3.10/site-packages (from -r code/TensorRT-LLM/requirements.txt (line 29)) (0.4.3)\n",
      "Requirement already satisfied: mpmath>=1.3.0 in /home/workbench/.local/lib/python3.10/site-packages (from -r code/TensorRT-LLM/requirements.txt (line 30)) (1.3.0)\n",
      "Requirement already satisfied: click in /home/workbench/.local/lib/python3.10/site-packages (from -r code/TensorRT-LLM/requirements.txt (line 31)) (8.1.7)\n",
      "Requirement already satisfied: click_option_group in /home/workbench/.local/lib/python3.10/site-packages (from -r code/TensorRT-LLM/requirements.txt (line 32)) (0.5.6)\n",
      "Requirement already satisfied: aenum in /home/workbench/.local/lib/python3.10/site-packages (from -r code/TensorRT-LLM/requirements.txt (line 33)) (3.1.15)\n",
      "Requirement already satisfied: sniffio in /usr/local/lib/python3.10/dist-packages (from openai==1.39.0->-r code/TensorRT-LLM/requirements.txt (line 11)) (1.3.0)\n",
      "Requirement already satisfied: pydantic<3,>=1.9.0 in /home/workbench/.local/lib/python3.10/site-packages (from openai==1.39.0->-r code/TensorRT-LLM/requirements.txt (line 11)) (2.9.2)\n",
      "Requirement already satisfied: typing-extensions<5,>=4.7 in /usr/local/lib/python3.10/dist-packages (from openai==1.39.0->-r code/TensorRT-LLM/requirements.txt (line 11)) (4.9.0)\n",
      "Requirement already satisfied: distro<2,>=1.7.0 in /home/workbench/.local/lib/python3.10/site-packages (from openai==1.39.0->-r code/TensorRT-LLM/requirements.txt (line 11)) (1.9.0)\n",
      "Requirement already satisfied: anyio<5,>=3.5.0 in /usr/local/lib/python3.10/dist-packages (from openai==1.39.0->-r code/TensorRT-LLM/requirements.txt (line 11)) (4.1.0)\n",
      "Requirement already satisfied: tqdm>4 in /home/workbench/.local/lib/python3.10/site-packages (from openai==1.39.0->-r code/TensorRT-LLM/requirements.txt (line 11)) (4.66.5)\n",
      "Requirement already satisfied: httpx<1,>=0.23.0 in /home/workbench/.local/lib/python3.10/site-packages (from openai==1.39.0->-r code/TensorRT-LLM/requirements.txt (line 11)) (0.27.2)\n",
      "Requirement already satisfied: packaging>=20.0 in /usr/local/lib/python3.10/dist-packages (from accelerate>=0.25.0->-r code/TensorRT-LLM/requirements.txt (line 2)) (23.2)\n",
      "Requirement already satisfied: pyyaml in /usr/local/lib/python3.10/dist-packages (from accelerate>=0.25.0->-r code/TensorRT-LLM/requirements.txt (line 2)) (6.0.1)\n",
      "Requirement already satisfied: safetensors>=0.4.3 in /home/workbench/.local/lib/python3.10/site-packages (from accelerate>=0.25.0->-r code/TensorRT-LLM/requirements.txt (line 2)) (0.4.5)\n",
      "Requirement already satisfied: huggingface-hub>=0.21.0 in /home/workbench/.local/lib/python3.10/site-packages (from accelerate>=0.25.0->-r code/TensorRT-LLM/requirements.txt (line 2)) (0.25.1)\n",
      "Requirement already satisfied: tomli>=1.1.0 in /usr/local/lib/python3.10/dist-packages (from build->-r code/TensorRT-LLM/requirements.txt (line 3)) (2.0.1)\n",
      "Requirement already satisfied: pyproject_hooks in /home/workbench/.local/lib/python3.10/site-packages (from build->-r code/TensorRT-LLM/requirements.txt (line 3)) (1.2.0)\n",
      "Requirement already satisfied: regex!=2019.12.17 in /home/workbench/.local/lib/python3.10/site-packages (from diffusers>=0.27.0->-r code/TensorRT-LLM/requirements.txt (line 6)) (2024.9.11)\n",
      "Requirement already satisfied: importlib-metadata in /home/workbench/.local/lib/python3.10/site-packages (from diffusers>=0.27.0->-r code/TensorRT-LLM/requirements.txt (line 6)) (8.5.0)\n",
      "Requirement already satisfied: requests in /home/workbench/.local/lib/python3.10/site-packages (from diffusers>=0.27.0->-r code/TensorRT-LLM/requirements.txt (line 6)) (2.32.3)\n",
      "Requirement already satisfied: filelock in /home/workbench/.local/lib/python3.10/site-packages (from diffusers>=0.27.0->-r code/TensorRT-LLM/requirements.txt (line 6)) (3.16.1)\n",
      "Requirement already satisfied: protobuf>=3.20.2 in /home/workbench/.local/lib/python3.10/site-packages (from onnx>=1.12.0->-r code/TensorRT-LLM/requirements.txt (line 10)) (5.28.2)\n",
      "Requirement already satisfied: pytz>=2020.1 in /home/workbench/.local/lib/python3.10/site-packages (from pandas->-r code/TensorRT-LLM/requirements.txt (line 16)) (2024.2)\n",
      "Requirement already satisfied: tzdata>=2022.7 in /home/workbench/.local/lib/python3.10/site-packages (from pandas->-r code/TensorRT-LLM/requirements.txt (line 16)) (2024.2)\n",
      "Requirement already satisfied: python-dateutil>=2.8.2 in /usr/local/lib/python3.10/dist-packages (from pandas->-r code/TensorRT-LLM/requirements.txt (line 16)) (2.8.2)\n",
      "Requirement already satisfied: tensorrt-cu12==10.4.0 in /home/workbench/.local/lib/python3.10/site-packages (from tensorrt~=10.4.0->-r code/TensorRT-LLM/requirements.txt (line 20)) (10.4.0)\n",
      "Requirement already satisfied: tensorrt-cu12-bindings==10.4.0 in /home/workbench/.local/lib/python3.10/site-packages (from tensorrt-cu12==10.4.0->tensorrt~=10.4.0->-r code/TensorRT-LLM/requirements.txt (line 20)) (10.4.0)\n",
      "Requirement already satisfied: tensorrt-cu12-libs==10.4.0 in /home/workbench/.local/lib/python3.10/site-packages (from tensorrt-cu12==10.4.0->tensorrt~=10.4.0->-r code/TensorRT-LLM/requirements.txt (line 20)) (10.4.0)\n",
      "Requirement already satisfied: nvidia-cuda-runtime-cu12 in /home/workbench/.local/lib/python3.10/site-packages (from tensorrt-cu12-libs==10.4.0->tensorrt-cu12==10.4.0->tensorrt~=10.4.0->-r code/TensorRT-LLM/requirements.txt (line 20)) (12.1.105)\n",
      "Requirement already satisfied: nvidia-cublas-cu12==12.1.3.1 in /home/workbench/.local/lib/python3.10/site-packages (from torch<=2.4.0,>=2.4.0a0->-r code/TensorRT-LLM/requirements.txt (line 23)) (12.1.3.1)\n",
      "Requirement already satisfied: nvidia-nccl-cu12==2.20.5 in /home/workbench/.local/lib/python3.10/site-packages (from torch<=2.4.0,>=2.4.0a0->-r code/TensorRT-LLM/requirements.txt (line 23)) (2.20.5)\n",
      "Requirement already satisfied: nvidia-cufft-cu12==11.0.2.54 in /home/workbench/.local/lib/python3.10/site-packages (from torch<=2.4.0,>=2.4.0a0->-r code/TensorRT-LLM/requirements.txt (line 23)) (11.0.2.54)\n",
      "Requirement already satisfied: nvidia-cuda-nvrtc-cu12==12.1.105 in /home/workbench/.local/lib/python3.10/site-packages (from torch<=2.4.0,>=2.4.0a0->-r code/TensorRT-LLM/requirements.txt (line 23)) (12.1.105)\n",
      "Requirement already satisfied: nvidia-cuda-cupti-cu12==12.1.105 in /home/workbench/.local/lib/python3.10/site-packages (from torch<=2.4.0,>=2.4.0a0->-r code/TensorRT-LLM/requirements.txt (line 23)) (12.1.105)\n",
      "Requirement already satisfied: triton==3.0.0 in /home/workbench/.local/lib/python3.10/site-packages (from torch<=2.4.0,>=2.4.0a0->-r code/TensorRT-LLM/requirements.txt (line 23)) (3.0.0)\n",
      "Requirement already satisfied: fsspec in /home/workbench/.local/lib/python3.10/site-packages (from torch<=2.4.0,>=2.4.0a0->-r code/TensorRT-LLM/requirements.txt (line 23)) (2023.10.0)\n",
      "Requirement already satisfied: sympy in /home/workbench/.local/lib/python3.10/site-packages (from torch<=2.4.0,>=2.4.0a0->-r code/TensorRT-LLM/requirements.txt (line 23)) (1.13.3)\n",
      "Requirement already satisfied: networkx in /home/workbench/.local/lib/python3.10/site-packages (from torch<=2.4.0,>=2.4.0a0->-r code/TensorRT-LLM/requirements.txt (line 23)) (3.3)\n",
      "Requirement already satisfied: nvidia-cudnn-cu12==9.1.0.70 in /home/workbench/.local/lib/python3.10/site-packages (from torch<=2.4.0,>=2.4.0a0->-r code/TensorRT-LLM/requirements.txt (line 23)) (9.1.0.70)\n",
      "Requirement already satisfied: nvidia-curand-cu12==10.3.2.106 in /home/workbench/.local/lib/python3.10/site-packages (from torch<=2.4.0,>=2.4.0a0->-r code/TensorRT-LLM/requirements.txt (line 23)) (10.3.2.106)\n",
      "Requirement already satisfied: nvidia-cusparse-cu12==12.1.0.106 in /home/workbench/.local/lib/python3.10/site-packages (from torch<=2.4.0,>=2.4.0a0->-r code/TensorRT-LLM/requirements.txt (line 23)) (12.1.0.106)\n",
      "Requirement already satisfied: nvidia-nvtx-cu12==12.1.105 in /home/workbench/.local/lib/python3.10/site-packages (from torch<=2.4.0,>=2.4.0a0->-r code/TensorRT-LLM/requirements.txt (line 23)) (12.1.105)\n",
      "Requirement already satisfied: nvidia-cusolver-cu12==11.4.5.107 in /home/workbench/.local/lib/python3.10/site-packages (from torch<=2.4.0,>=2.4.0a0->-r code/TensorRT-LLM/requirements.txt (line 23)) (11.4.5.107)\n",
      "Requirement already satisfied: jinja2 in /usr/local/lib/python3.10/dist-packages (from torch<=2.4.0,>=2.4.0a0->-r code/TensorRT-LLM/requirements.txt (line 23)) (3.1.2)\n",
      "Requirement already satisfied: nvidia-nvjitlink-cu12 in /home/workbench/.local/lib/python3.10/site-packages (from nvidia-cusolver-cu12==11.4.5.107->torch<=2.4.0,>=2.4.0a0->-r code/TensorRT-LLM/requirements.txt (line 23)) (12.6.68)\n",
      "Requirement already satisfied: cloudpickle>=1.6.0 in /home/workbench/.local/lib/python3.10/site-packages (from nvidia-modelopt~=0.15.0->-r code/TensorRT-LLM/requirements.txt (line 24)) (3.0.0)\n",
      "Requirement already satisfied: ninja in /home/workbench/.local/lib/python3.10/site-packages (from nvidia-modelopt~=0.15.0->-r code/TensorRT-LLM/requirements.txt (line 24)) (1.11.1.1)\n",
      "Requirement already satisfied: scipy in /home/workbench/.local/lib/python3.10/site-packages (from nvidia-modelopt~=0.15.0->-r code/TensorRT-LLM/requirements.txt (line 24)) (1.14.1)\n",
      "Requirement already satisfied: rich in /home/workbench/.local/lib/python3.10/site-packages (from nvidia-modelopt~=0.15.0->-r code/TensorRT-LLM/requirements.txt (line 24)) (13.9.1)\n",
      "Requirement already satisfied: tokenizers<0.20,>=0.19 in /home/workbench/.local/lib/python3.10/site-packages (from transformers<=4.42.4,>=4.38.2->-r code/TensorRT-LLM/requirements.txt (line 25)) (0.19.1)\n",
      "Requirement already satisfied: datasets in /home/workbench/.local/lib/python3.10/site-packages (from optimum->-r code/TensorRT-LLM/requirements.txt (line 28)) (2.14.7)\n",
      "Requirement already satisfied: coloredlogs in /home/workbench/.local/lib/python3.10/site-packages (from optimum->-r code/TensorRT-LLM/requirements.txt (line 28)) (15.0.1)\n",
      "Requirement already satisfied: xxhash in /home/workbench/.local/lib/python3.10/site-packages (from evaluate->-r code/TensorRT-LLM/requirements.txt (line 29)) (3.5.0)\n",
      "Requirement already satisfied: multiprocess in /home/workbench/.local/lib/python3.10/site-packages (from evaluate->-r code/TensorRT-LLM/requirements.txt (line 29)) (0.70.15)\n",
      "Requirement already satisfied: dill in /home/workbench/.local/lib/python3.10/site-packages (from evaluate->-r code/TensorRT-LLM/requirements.txt (line 29)) (0.3.7)\n",
      "Requirement already satisfied: exceptiongroup>=1.0.2 in /usr/local/lib/python3.10/dist-packages (from anyio<5,>=3.5.0->openai==1.39.0->-r code/TensorRT-LLM/requirements.txt (line 11)) (1.2.0)\n",
      "Requirement already satisfied: idna>=2.8 in /usr/local/lib/python3.10/dist-packages (from anyio<5,>=3.5.0->openai==1.39.0->-r code/TensorRT-LLM/requirements.txt (line 11)) (3.6)\n",
      "Requirement already satisfied: aiohttp in /home/workbench/.local/lib/python3.10/site-packages (from datasets->optimum->-r code/TensorRT-LLM/requirements.txt (line 28)) (3.10.8)\n",
      "Requirement already satisfied: pyarrow-hotfix in /home/workbench/.local/lib/python3.10/site-packages (from datasets->optimum->-r code/TensorRT-LLM/requirements.txt (line 28)) (0.6)\n",
      "Requirement already satisfied: pyarrow>=8.0.0 in /home/workbench/.local/lib/python3.10/site-packages (from datasets->optimum->-r code/TensorRT-LLM/requirements.txt (line 28)) (17.0.0)\n",
      "Requirement already satisfied: httpcore==1.* in /home/workbench/.local/lib/python3.10/site-packages (from httpx<1,>=0.23.0->openai==1.39.0->-r code/TensorRT-LLM/requirements.txt (line 11)) (1.0.6)\n",
      "Requirement already satisfied: certifi in /usr/local/lib/python3.10/dist-packages (from httpx<1,>=0.23.0->openai==1.39.0->-r code/TensorRT-LLM/requirements.txt (line 11)) (2023.11.17)\n",
      "Requirement already satisfied: h11<0.15,>=0.13 in /home/workbench/.local/lib/python3.10/site-packages (from httpcore==1.*->httpx<1,>=0.23.0->openai==1.39.0->-r code/TensorRT-LLM/requirements.txt (line 11)) (0.14.0)\n",
      "Requirement already satisfied: pydantic-core==2.23.4 in /home/workbench/.local/lib/python3.10/site-packages (from pydantic<3,>=1.9.0->openai==1.39.0->-r code/TensorRT-LLM/requirements.txt (line 11)) (2.23.4)\n",
      "Requirement already satisfied: annotated-types>=0.6.0 in /home/workbench/.local/lib/python3.10/site-packages (from pydantic<3,>=1.9.0->openai==1.39.0->-r code/TensorRT-LLM/requirements.txt (line 11)) (0.7.0)\n",
      "Requirement already satisfied: six>=1.5 in /usr/local/lib/python3.10/dist-packages (from python-dateutil>=2.8.2->pandas->-r code/TensorRT-LLM/requirements.txt (line 16)) (1.16.0)\n",
      "Requirement already satisfied: urllib3<3,>=1.21.1 in /usr/local/lib/python3.10/dist-packages (from requests->diffusers>=0.27.0->-r code/TensorRT-LLM/requirements.txt (line 6)) (2.1.0)\n",
      "Requirement already satisfied: charset-normalizer<4,>=2 in /usr/local/lib/python3.10/dist-packages (from requests->diffusers>=0.27.0->-r code/TensorRT-LLM/requirements.txt (line 6)) (3.3.2)\n",
      "Requirement already satisfied: humanfriendly>=9.1 in /home/workbench/.local/lib/python3.10/site-packages (from coloredlogs->optimum->-r code/TensorRT-LLM/requirements.txt (line 28)) (10.0)\n",
      "Requirement already satisfied: zipp>=3.20 in /home/workbench/.local/lib/python3.10/site-packages (from importlib-metadata->diffusers>=0.27.0->-r code/TensorRT-LLM/requirements.txt (line 6)) (3.20.2)\n",
      "Requirement already satisfied: MarkupSafe>=2.0 in /usr/local/lib/python3.10/dist-packages (from jinja2->torch<=2.4.0,>=2.4.0a0->-r code/TensorRT-LLM/requirements.txt (line 23)) (2.1.3)\n",
      "Requirement already satisfied: markdown-it-py>=2.2.0 in /home/workbench/.local/lib/python3.10/site-packages (from rich->nvidia-modelopt~=0.15.0->-r code/TensorRT-LLM/requirements.txt (line 24)) (3.0.0)\n",
      "Requirement already satisfied: pygments<3.0.0,>=2.13.0 in /usr/local/lib/python3.10/dist-packages (from rich->nvidia-modelopt~=0.15.0->-r code/TensorRT-LLM/requirements.txt (line 24)) (2.17.2)\n",
      "Requirement already satisfied: attrs>=17.3.0 in /usr/local/lib/python3.10/dist-packages (from aiohttp->datasets->optimum->-r code/TensorRT-LLM/requirements.txt (line 28)) (23.1.0)\n",
      "Requirement already satisfied: yarl<2.0,>=1.12.0 in /home/workbench/.local/lib/python3.10/site-packages (from aiohttp->datasets->optimum->-r code/TensorRT-LLM/requirements.txt (line 28)) (1.13.1)\n",
      "Requirement already satisfied: frozenlist>=1.1.1 in /home/workbench/.local/lib/python3.10/site-packages (from aiohttp->datasets->optimum->-r code/TensorRT-LLM/requirements.txt (line 28)) (1.4.1)\n",
      "Requirement already satisfied: aiosignal>=1.1.2 in /home/workbench/.local/lib/python3.10/site-packages (from aiohttp->datasets->optimum->-r code/TensorRT-LLM/requirements.txt (line 28)) (1.3.1)\n",
      "Requirement already satisfied: multidict<7.0,>=4.5 in /home/workbench/.local/lib/python3.10/site-packages (from aiohttp->datasets->optimum->-r code/TensorRT-LLM/requirements.txt (line 28)) (6.1.0)\n",
      "Requirement already satisfied: async-timeout<5.0,>=4.0 in /home/workbench/.local/lib/python3.10/site-packages (from aiohttp->datasets->optimum->-r code/TensorRT-LLM/requirements.txt (line 28)) (4.0.3)\n",
      "Requirement already satisfied: aiohappyeyeballs>=2.3.0 in /home/workbench/.local/lib/python3.10/site-packages (from aiohttp->datasets->optimum->-r code/TensorRT-LLM/requirements.txt (line 28)) (2.4.3)\n",
      "Requirement already satisfied: mdurl~=0.1 in /home/workbench/.local/lib/python3.10/site-packages (from markdown-it-py>=2.2.0->rich->nvidia-modelopt~=0.15.0->-r code/TensorRT-LLM/requirements.txt (line 24)) (0.1.2)\n",
      "Note: you may need to restart the kernel to use updated packages.\n"
     ]
    }
   ],
   "source": [
    "pip install -r code/TensorRT-LLM/requirements.txt"
   ]
  },
  {
   "cell_type": "code",
   "execution_count": 9,
   "id": "32840434-a8ac-4642-a065-d0cec6965edf",
   "metadata": {
    "scrolled": true
   },
   "outputs": [
    {
     "name": "stdout",
     "output_type": "stream",
     "text": [
      "Defaulting to user installation because normal site-packages is not writeable\n",
      "Looking in indexes: https://pypi.org/simple, https://pypi.nvidia.com\n",
      "Requirement already satisfied: tensorrt_llm==0.14.0.dev2024100100 in /home/workbench/.local/lib/python3.10/site-packages (from -r code/TensorRT-LLM/examples/gpt/requirements.txt (line 2)) (0.14.0.dev2024100100)\n",
      "Collecting datasets~=2.14.5\n",
      "  Downloading datasets-2.14.7-py3-none-any.whl (520 kB)\n",
      "\u001b[2K     \u001b[90m━━━━━━━━━━━━━━━━━━━━━━━━━━━━━━━━━━━━━━━\u001b[0m \u001b[32m520.4/520.4 KB\u001b[0m \u001b[31m1.0 MB/s\u001b[0m eta \u001b[36m0:00:00\u001b[0m00:01\u001b[0m00:01\u001b[0m\n",
      "\u001b[?25hRequirement already satisfied: evaluate~=0.4.1 in /home/workbench/.local/lib/python3.10/site-packages (from -r code/TensorRT-LLM/examples/gpt/requirements.txt (line 4)) (0.4.3)\n",
      "Collecting rouge_score~=0.1.2\n",
      "  Downloading rouge_score-0.1.2.tar.gz (17 kB)\n",
      "  Preparing metadata (setup.py) ... \u001b[?25ldone\n",
      "\u001b[?25hCollecting SentencePiece~=0.1.99\n",
      "  Downloading sentencepiece-0.1.99-cp310-cp310-manylinux_2_17_x86_64.manylinux2014_x86_64.whl (1.3 MB)\n",
      "\u001b[2K     \u001b[90m━━━━━━━━━━━━━━━━━━━━━━━━━━━━━━━━━━━━━━━━\u001b[0m \u001b[32m1.3/1.3 MB\u001b[0m \u001b[31m1.6 MB/s\u001b[0m eta \u001b[36m0:00:00\u001b[0m00:01\u001b[0m00:01\u001b[0m\n",
      "\u001b[?25hRequirement already satisfied: mpi4py in /home/workbench/.local/lib/python3.10/site-packages (from tensorrt_llm==0.14.0.dev2024100100->-r code/TensorRT-LLM/examples/gpt/requirements.txt (line 2)) (4.0.0)\n",
      "Requirement already satisfied: optimum in /home/workbench/.local/lib/python3.10/site-packages (from tensorrt_llm==0.14.0.dev2024100100->-r code/TensorRT-LLM/examples/gpt/requirements.txt (line 2)) (1.22.0)\n",
      "Requirement already satisfied: pynvml>=11.5.0 in /home/workbench/.local/lib/python3.10/site-packages (from tensorrt_llm==0.14.0.dev2024100100->-r code/TensorRT-LLM/examples/gpt/requirements.txt (line 2)) (11.5.3)\n",
      "Requirement already satisfied: diffusers>=0.27.0 in /home/workbench/.local/lib/python3.10/site-packages (from tensorrt_llm==0.14.0.dev2024100100->-r code/TensorRT-LLM/examples/gpt/requirements.txt (line 2)) (0.30.3)\n",
      "Requirement already satisfied: torch<=2.4.0,>=2.4.0a0 in /home/workbench/.local/lib/python3.10/site-packages (from tensorrt_llm==0.14.0.dev2024100100->-r code/TensorRT-LLM/examples/gpt/requirements.txt (line 2)) (2.4.0)\n",
      "Requirement already satisfied: wheel in /usr/lib/python3/dist-packages (from tensorrt_llm==0.14.0.dev2024100100->-r code/TensorRT-LLM/examples/gpt/requirements.txt (line 2)) (0.37.1)\n",
      "Requirement already satisfied: pulp in /home/workbench/.local/lib/python3.10/site-packages (from tensorrt_llm==0.14.0.dev2024100100->-r code/TensorRT-LLM/examples/gpt/requirements.txt (line 2)) (2.9.0)\n",
      "Requirement already satisfied: psutil in /usr/local/lib/python3.10/dist-packages (from tensorrt_llm==0.14.0.dev2024100100->-r code/TensorRT-LLM/examples/gpt/requirements.txt (line 2)) (5.9.6)\n",
      "Requirement already satisfied: colored in /home/workbench/.local/lib/python3.10/site-packages (from tensorrt_llm==0.14.0.dev2024100100->-r code/TensorRT-LLM/examples/gpt/requirements.txt (line 2)) (2.2.4)\n",
      "Requirement already satisfied: nvidia-modelopt~=0.15.0 in /home/workbench/.local/lib/python3.10/site-packages (from tensorrt_llm==0.14.0.dev2024100100->-r code/TensorRT-LLM/examples/gpt/requirements.txt (line 2)) (0.15.1)\n",
      "Requirement already satisfied: aenum in /home/workbench/.local/lib/python3.10/site-packages (from tensorrt_llm==0.14.0.dev2024100100->-r code/TensorRT-LLM/examples/gpt/requirements.txt (line 2)) (3.1.15)\n",
      "Requirement already satisfied: transformers<=4.42.4,>=4.38.2 in /home/workbench/.local/lib/python3.10/site-packages (from tensorrt_llm==0.14.0.dev2024100100->-r code/TensorRT-LLM/examples/gpt/requirements.txt (line 2)) (4.42.4)\n",
      "Requirement already satisfied: build in /home/workbench/.local/lib/python3.10/site-packages (from tensorrt_llm==0.14.0.dev2024100100->-r code/TensorRT-LLM/examples/gpt/requirements.txt (line 2)) (1.2.2)\n",
      "Requirement already satisfied: lark in /home/workbench/.local/lib/python3.10/site-packages (from tensorrt_llm==0.14.0.dev2024100100->-r code/TensorRT-LLM/examples/gpt/requirements.txt (line 2)) (1.2.2)\n",
      "Requirement already satisfied: numpy<2 in /home/workbench/.local/lib/python3.10/site-packages (from tensorrt_llm==0.14.0.dev2024100100->-r code/TensorRT-LLM/examples/gpt/requirements.txt (line 2)) (1.26.4)\n",
      "Requirement already satisfied: click-option-group in /home/workbench/.local/lib/python3.10/site-packages (from tensorrt_llm==0.14.0.dev2024100100->-r code/TensorRT-LLM/examples/gpt/requirements.txt (line 2)) (0.5.6)\n",
      "Requirement already satisfied: accelerate>=0.25.0 in /home/workbench/.local/lib/python3.10/site-packages (from tensorrt_llm==0.14.0.dev2024100100->-r code/TensorRT-LLM/examples/gpt/requirements.txt (line 2)) (1.0.0rc1)\n",
      "Requirement already satisfied: StrEnum in /home/workbench/.local/lib/python3.10/site-packages (from tensorrt_llm==0.14.0.dev2024100100->-r code/TensorRT-LLM/examples/gpt/requirements.txt (line 2)) (0.4.15)\n",
      "Requirement already satisfied: polygraphy in /home/workbench/.local/lib/python3.10/site-packages (from tensorrt_llm==0.14.0.dev2024100100->-r code/TensorRT-LLM/examples/gpt/requirements.txt (line 2)) (0.49.9)\n",
      "Requirement already satisfied: onnx>=1.12.0 in /home/workbench/.local/lib/python3.10/site-packages (from tensorrt_llm==0.14.0.dev2024100100->-r code/TensorRT-LLM/examples/gpt/requirements.txt (line 2)) (1.16.2)\n",
      "Requirement already satisfied: pandas in /home/workbench/.local/lib/python3.10/site-packages (from tensorrt_llm==0.14.0.dev2024100100->-r code/TensorRT-LLM/examples/gpt/requirements.txt (line 2)) (2.2.3)\n",
      "Requirement already satisfied: tensorrt~=10.4.0 in /home/workbench/.local/lib/python3.10/site-packages (from tensorrt_llm==0.14.0.dev2024100100->-r code/TensorRT-LLM/examples/gpt/requirements.txt (line 2)) (10.4.0)\n",
      "Requirement already satisfied: pillow==10.3.0 in /home/workbench/.local/lib/python3.10/site-packages (from tensorrt_llm==0.14.0.dev2024100100->-r code/TensorRT-LLM/examples/gpt/requirements.txt (line 2)) (10.3.0)\n",
      "Requirement already satisfied: cuda-python in /home/workbench/.local/lib/python3.10/site-packages (from tensorrt_llm==0.14.0.dev2024100100->-r code/TensorRT-LLM/examples/gpt/requirements.txt (line 2)) (12.6.0)\n",
      "Requirement already satisfied: mpmath>=1.3.0 in /home/workbench/.local/lib/python3.10/site-packages (from tensorrt_llm==0.14.0.dev2024100100->-r code/TensorRT-LLM/examples/gpt/requirements.txt (line 2)) (1.3.0)\n",
      "Requirement already satisfied: openai==1.39.0 in /home/workbench/.local/lib/python3.10/site-packages (from tensorrt_llm==0.14.0.dev2024100100->-r code/TensorRT-LLM/examples/gpt/requirements.txt (line 2)) (1.39.0)\n",
      "Requirement already satisfied: click in /home/workbench/.local/lib/python3.10/site-packages (from tensorrt_llm==0.14.0.dev2024100100->-r code/TensorRT-LLM/examples/gpt/requirements.txt (line 2)) (8.1.7)\n",
      "Requirement already satisfied: h5py==3.10.0 in /home/workbench/.local/lib/python3.10/site-packages (from tensorrt_llm==0.14.0.dev2024100100->-r code/TensorRT-LLM/examples/gpt/requirements.txt (line 2)) (3.10.0)\n",
      "Requirement already satisfied: sniffio in /usr/local/lib/python3.10/dist-packages (from openai==1.39.0->tensorrt_llm==0.14.0.dev2024100100->-r code/TensorRT-LLM/examples/gpt/requirements.txt (line 2)) (1.3.0)\n",
      "Requirement already satisfied: tqdm>4 in /home/workbench/.local/lib/python3.10/site-packages (from openai==1.39.0->tensorrt_llm==0.14.0.dev2024100100->-r code/TensorRT-LLM/examples/gpt/requirements.txt (line 2)) (4.66.5)\n",
      "Requirement already satisfied: typing-extensions<5,>=4.7 in /usr/local/lib/python3.10/dist-packages (from openai==1.39.0->tensorrt_llm==0.14.0.dev2024100100->-r code/TensorRT-LLM/examples/gpt/requirements.txt (line 2)) (4.9.0)\n",
      "Requirement already satisfied: anyio<5,>=3.5.0 in /usr/local/lib/python3.10/dist-packages (from openai==1.39.0->tensorrt_llm==0.14.0.dev2024100100->-r code/TensorRT-LLM/examples/gpt/requirements.txt (line 2)) (4.1.0)\n",
      "Requirement already satisfied: httpx<1,>=0.23.0 in /home/workbench/.local/lib/python3.10/site-packages (from openai==1.39.0->tensorrt_llm==0.14.0.dev2024100100->-r code/TensorRT-LLM/examples/gpt/requirements.txt (line 2)) (0.27.2)\n",
      "Requirement already satisfied: distro<2,>=1.7.0 in /home/workbench/.local/lib/python3.10/site-packages (from openai==1.39.0->tensorrt_llm==0.14.0.dev2024100100->-r code/TensorRT-LLM/examples/gpt/requirements.txt (line 2)) (1.9.0)\n",
      "Requirement already satisfied: pydantic<3,>=1.9.0 in /home/workbench/.local/lib/python3.10/site-packages (from openai==1.39.0->tensorrt_llm==0.14.0.dev2024100100->-r code/TensorRT-LLM/examples/gpt/requirements.txt (line 2)) (2.9.2)\n",
      "Requirement already satisfied: xxhash in /home/workbench/.local/lib/python3.10/site-packages (from datasets~=2.14.5->-r code/TensorRT-LLM/examples/gpt/requirements.txt (line 3)) (3.5.0)\n",
      "Collecting pyarrow-hotfix\n",
      "  Downloading pyarrow_hotfix-0.6-py3-none-any.whl (7.9 kB)\n",
      "Requirement already satisfied: multiprocess in /home/workbench/.local/lib/python3.10/site-packages (from datasets~=2.14.5->-r code/TensorRT-LLM/examples/gpt/requirements.txt (line 3)) (0.70.16)\n",
      "Requirement already satisfied: requests>=2.19.0 in /home/workbench/.local/lib/python3.10/site-packages (from datasets~=2.14.5->-r code/TensorRT-LLM/examples/gpt/requirements.txt (line 3)) (2.32.3)\n",
      "Collecting dill<0.3.8,>=0.3.0\n",
      "  Downloading dill-0.3.7-py3-none-any.whl (115 kB)\n",
      "\u001b[2K     \u001b[90m━━━━━━━━━━━━━━━━━━━━━━━━━━━━━━━━━━━━━\u001b[0m \u001b[32m115.3/115.3 KB\u001b[0m \u001b[31m521.0 kB/s\u001b[0m eta \u001b[36m0:00:00\u001b[0m00:01\u001b[0m\n",
      "\u001b[?25hRequirement already satisfied: aiohttp in /home/workbench/.local/lib/python3.10/site-packages (from datasets~=2.14.5->-r code/TensorRT-LLM/examples/gpt/requirements.txt (line 3)) (3.10.8)\n",
      "Collecting fsspec[http]<=2023.10.0,>=2023.1.0\n",
      "  Downloading fsspec-2023.10.0-py3-none-any.whl (166 kB)\n",
      "\u001b[2K     \u001b[90m━━━━━━━━━━━━━━━━━━━━━━━━━━━━━━━━━━━━━━━\u001b[0m \u001b[32m166.4/166.4 KB\u001b[0m \u001b[31m1.1 MB/s\u001b[0m eta \u001b[36m0:00:00\u001b[0m00:01\u001b[0m\n",
      "\u001b[?25hRequirement already satisfied: pyyaml>=5.1 in /usr/local/lib/python3.10/dist-packages (from datasets~=2.14.5->-r code/TensorRT-LLM/examples/gpt/requirements.txt (line 3)) (6.0.1)\n",
      "Requirement already satisfied: packaging in /usr/local/lib/python3.10/dist-packages (from datasets~=2.14.5->-r code/TensorRT-LLM/examples/gpt/requirements.txt (line 3)) (23.2)\n",
      "Requirement already satisfied: pyarrow>=8.0.0 in /home/workbench/.local/lib/python3.10/site-packages (from datasets~=2.14.5->-r code/TensorRT-LLM/examples/gpt/requirements.txt (line 3)) (17.0.0)\n",
      "Requirement already satisfied: huggingface-hub<1.0.0,>=0.14.0 in /home/workbench/.local/lib/python3.10/site-packages (from datasets~=2.14.5->-r code/TensorRT-LLM/examples/gpt/requirements.txt (line 3)) (0.25.1)\n",
      "Requirement already satisfied: absl-py in /home/workbench/.local/lib/python3.10/site-packages (from rouge_score~=0.1.2->-r code/TensorRT-LLM/examples/gpt/requirements.txt (line 5)) (2.1.0)\n",
      "Collecting nltk\n",
      "  Downloading nltk-3.9.1-py3-none-any.whl (1.5 MB)\n",
      "\u001b[2K     \u001b[90m━━━━━━━━━━━━━━━━━━━━━━━━━━━━━━━━━━━━━━━━\u001b[0m \u001b[32m1.5/1.5 MB\u001b[0m \u001b[31m2.1 MB/s\u001b[0m eta \u001b[36m0:00:00\u001b[0m00:01\u001b[0m00:01\u001b[0m\n",
      "\u001b[?25hRequirement already satisfied: six>=1.14.0 in /usr/local/lib/python3.10/dist-packages (from rouge_score~=0.1.2->-r code/TensorRT-LLM/examples/gpt/requirements.txt (line 5)) (1.16.0)\n",
      "Requirement already satisfied: safetensors>=0.4.3 in /home/workbench/.local/lib/python3.10/site-packages (from accelerate>=0.25.0->tensorrt_llm==0.14.0.dev2024100100->-r code/TensorRT-LLM/examples/gpt/requirements.txt (line 2)) (0.4.5)\n",
      "Requirement already satisfied: filelock in /home/workbench/.local/lib/python3.10/site-packages (from diffusers>=0.27.0->tensorrt_llm==0.14.0.dev2024100100->-r code/TensorRT-LLM/examples/gpt/requirements.txt (line 2)) (3.16.1)\n",
      "Requirement already satisfied: importlib-metadata in /home/workbench/.local/lib/python3.10/site-packages (from diffusers>=0.27.0->tensorrt_llm==0.14.0.dev2024100100->-r code/TensorRT-LLM/examples/gpt/requirements.txt (line 2)) (8.5.0)\n",
      "Requirement already satisfied: regex!=2019.12.17 in /home/workbench/.local/lib/python3.10/site-packages (from diffusers>=0.27.0->tensorrt_llm==0.14.0.dev2024100100->-r code/TensorRT-LLM/examples/gpt/requirements.txt (line 2)) (2024.9.11)\n",
      "Requirement already satisfied: aiohappyeyeballs>=2.3.0 in /home/workbench/.local/lib/python3.10/site-packages (from aiohttp->datasets~=2.14.5->-r code/TensorRT-LLM/examples/gpt/requirements.txt (line 3)) (2.4.3)\n",
      "Requirement already satisfied: frozenlist>=1.1.1 in /home/workbench/.local/lib/python3.10/site-packages (from aiohttp->datasets~=2.14.5->-r code/TensorRT-LLM/examples/gpt/requirements.txt (line 3)) (1.4.1)\n",
      "Requirement already satisfied: aiosignal>=1.1.2 in /home/workbench/.local/lib/python3.10/site-packages (from aiohttp->datasets~=2.14.5->-r code/TensorRT-LLM/examples/gpt/requirements.txt (line 3)) (1.3.1)\n",
      "Requirement already satisfied: multidict<7.0,>=4.5 in /home/workbench/.local/lib/python3.10/site-packages (from aiohttp->datasets~=2.14.5->-r code/TensorRT-LLM/examples/gpt/requirements.txt (line 3)) (6.1.0)\n",
      "Requirement already satisfied: attrs>=17.3.0 in /usr/local/lib/python3.10/dist-packages (from aiohttp->datasets~=2.14.5->-r code/TensorRT-LLM/examples/gpt/requirements.txt (line 3)) (23.1.0)\n",
      "Requirement already satisfied: async-timeout<5.0,>=4.0 in /home/workbench/.local/lib/python3.10/site-packages (from aiohttp->datasets~=2.14.5->-r code/TensorRT-LLM/examples/gpt/requirements.txt (line 3)) (4.0.3)\n",
      "Requirement already satisfied: yarl<2.0,>=1.12.0 in /home/workbench/.local/lib/python3.10/site-packages (from aiohttp->datasets~=2.14.5->-r code/TensorRT-LLM/examples/gpt/requirements.txt (line 3)) (1.13.1)\n",
      "Requirement already satisfied: cloudpickle>=1.6.0 in /home/workbench/.local/lib/python3.10/site-packages (from nvidia-modelopt~=0.15.0->tensorrt_llm==0.14.0.dev2024100100->-r code/TensorRT-LLM/examples/gpt/requirements.txt (line 2)) (3.0.0)\n",
      "Requirement already satisfied: rich in /home/workbench/.local/lib/python3.10/site-packages (from nvidia-modelopt~=0.15.0->tensorrt_llm==0.14.0.dev2024100100->-r code/TensorRT-LLM/examples/gpt/requirements.txt (line 2)) (13.9.1)\n",
      "Requirement already satisfied: ninja in /home/workbench/.local/lib/python3.10/site-packages (from nvidia-modelopt~=0.15.0->tensorrt_llm==0.14.0.dev2024100100->-r code/TensorRT-LLM/examples/gpt/requirements.txt (line 2)) (1.11.1.1)\n",
      "Requirement already satisfied: scipy in /home/workbench/.local/lib/python3.10/site-packages (from nvidia-modelopt~=0.15.0->tensorrt_llm==0.14.0.dev2024100100->-r code/TensorRT-LLM/examples/gpt/requirements.txt (line 2)) (1.14.1)\n",
      "Requirement already satisfied: protobuf>=3.20.2 in /home/workbench/.local/lib/python3.10/site-packages (from onnx>=1.12.0->tensorrt_llm==0.14.0.dev2024100100->-r code/TensorRT-LLM/examples/gpt/requirements.txt (line 2)) (5.28.2)\n",
      "Requirement already satisfied: urllib3<3,>=1.21.1 in /usr/local/lib/python3.10/dist-packages (from requests>=2.19.0->datasets~=2.14.5->-r code/TensorRT-LLM/examples/gpt/requirements.txt (line 3)) (2.1.0)\n",
      "Requirement already satisfied: charset-normalizer<4,>=2 in /usr/local/lib/python3.10/dist-packages (from requests>=2.19.0->datasets~=2.14.5->-r code/TensorRT-LLM/examples/gpt/requirements.txt (line 3)) (3.3.2)\n",
      "Requirement already satisfied: idna<4,>=2.5 in /usr/local/lib/python3.10/dist-packages (from requests>=2.19.0->datasets~=2.14.5->-r code/TensorRT-LLM/examples/gpt/requirements.txt (line 3)) (3.6)\n",
      "Requirement already satisfied: certifi>=2017.4.17 in /usr/local/lib/python3.10/dist-packages (from requests>=2.19.0->datasets~=2.14.5->-r code/TensorRT-LLM/examples/gpt/requirements.txt (line 3)) (2023.11.17)\n",
      "Requirement already satisfied: tensorrt-cu12==10.4.0 in /home/workbench/.local/lib/python3.10/site-packages (from tensorrt~=10.4.0->tensorrt_llm==0.14.0.dev2024100100->-r code/TensorRT-LLM/examples/gpt/requirements.txt (line 2)) (10.4.0)\n",
      "Requirement already satisfied: tensorrt-cu12-libs==10.4.0 in /home/workbench/.local/lib/python3.10/site-packages (from tensorrt-cu12==10.4.0->tensorrt~=10.4.0->tensorrt_llm==0.14.0.dev2024100100->-r code/TensorRT-LLM/examples/gpt/requirements.txt (line 2)) (10.4.0)\n",
      "Requirement already satisfied: tensorrt-cu12-bindings==10.4.0 in /home/workbench/.local/lib/python3.10/site-packages (from tensorrt-cu12==10.4.0->tensorrt~=10.4.0->tensorrt_llm==0.14.0.dev2024100100->-r code/TensorRT-LLM/examples/gpt/requirements.txt (line 2)) (10.4.0)\n",
      "Requirement already satisfied: nvidia-cuda-runtime-cu12 in /home/workbench/.local/lib/python3.10/site-packages (from tensorrt-cu12-libs==10.4.0->tensorrt-cu12==10.4.0->tensorrt~=10.4.0->tensorrt_llm==0.14.0.dev2024100100->-r code/TensorRT-LLM/examples/gpt/requirements.txt (line 2)) (12.1.105)\n",
      "Requirement already satisfied: nvidia-cufft-cu12==11.0.2.54 in /home/workbench/.local/lib/python3.10/site-packages (from torch<=2.4.0,>=2.4.0a0->tensorrt_llm==0.14.0.dev2024100100->-r code/TensorRT-LLM/examples/gpt/requirements.txt (line 2)) (11.0.2.54)\n",
      "Requirement already satisfied: nvidia-cuda-nvrtc-cu12==12.1.105 in /home/workbench/.local/lib/python3.10/site-packages (from torch<=2.4.0,>=2.4.0a0->tensorrt_llm==0.14.0.dev2024100100->-r code/TensorRT-LLM/examples/gpt/requirements.txt (line 2)) (12.1.105)\n",
      "Requirement already satisfied: nvidia-cuda-cupti-cu12==12.1.105 in /home/workbench/.local/lib/python3.10/site-packages (from torch<=2.4.0,>=2.4.0a0->tensorrt_llm==0.14.0.dev2024100100->-r code/TensorRT-LLM/examples/gpt/requirements.txt (line 2)) (12.1.105)\n",
      "Requirement already satisfied: nvidia-cusolver-cu12==11.4.5.107 in /home/workbench/.local/lib/python3.10/site-packages (from torch<=2.4.0,>=2.4.0a0->tensorrt_llm==0.14.0.dev2024100100->-r code/TensorRT-LLM/examples/gpt/requirements.txt (line 2)) (11.4.5.107)\n",
      "Requirement already satisfied: jinja2 in /usr/local/lib/python3.10/dist-packages (from torch<=2.4.0,>=2.4.0a0->tensorrt_llm==0.14.0.dev2024100100->-r code/TensorRT-LLM/examples/gpt/requirements.txt (line 2)) (3.1.2)\n",
      "Requirement already satisfied: nvidia-nvtx-cu12==12.1.105 in /home/workbench/.local/lib/python3.10/site-packages (from torch<=2.4.0,>=2.4.0a0->tensorrt_llm==0.14.0.dev2024100100->-r code/TensorRT-LLM/examples/gpt/requirements.txt (line 2)) (12.1.105)\n",
      "Requirement already satisfied: nvidia-nccl-cu12==2.20.5 in /home/workbench/.local/lib/python3.10/site-packages (from torch<=2.4.0,>=2.4.0a0->tensorrt_llm==0.14.0.dev2024100100->-r code/TensorRT-LLM/examples/gpt/requirements.txt (line 2)) (2.20.5)\n",
      "Requirement already satisfied: nvidia-cudnn-cu12==9.1.0.70 in /home/workbench/.local/lib/python3.10/site-packages (from torch<=2.4.0,>=2.4.0a0->tensorrt_llm==0.14.0.dev2024100100->-r code/TensorRT-LLM/examples/gpt/requirements.txt (line 2)) (9.1.0.70)\n",
      "Requirement already satisfied: triton==3.0.0 in /home/workbench/.local/lib/python3.10/site-packages (from torch<=2.4.0,>=2.4.0a0->tensorrt_llm==0.14.0.dev2024100100->-r code/TensorRT-LLM/examples/gpt/requirements.txt (line 2)) (3.0.0)\n",
      "Requirement already satisfied: nvidia-cublas-cu12==12.1.3.1 in /home/workbench/.local/lib/python3.10/site-packages (from torch<=2.4.0,>=2.4.0a0->tensorrt_llm==0.14.0.dev2024100100->-r code/TensorRT-LLM/examples/gpt/requirements.txt (line 2)) (12.1.3.1)\n",
      "Requirement already satisfied: nvidia-curand-cu12==10.3.2.106 in /home/workbench/.local/lib/python3.10/site-packages (from torch<=2.4.0,>=2.4.0a0->tensorrt_llm==0.14.0.dev2024100100->-r code/TensorRT-LLM/examples/gpt/requirements.txt (line 2)) (10.3.2.106)\n",
      "Requirement already satisfied: nvidia-cusparse-cu12==12.1.0.106 in /home/workbench/.local/lib/python3.10/site-packages (from torch<=2.4.0,>=2.4.0a0->tensorrt_llm==0.14.0.dev2024100100->-r code/TensorRT-LLM/examples/gpt/requirements.txt (line 2)) (12.1.0.106)\n",
      "Requirement already satisfied: sympy in /home/workbench/.local/lib/python3.10/site-packages (from torch<=2.4.0,>=2.4.0a0->tensorrt_llm==0.14.0.dev2024100100->-r code/TensorRT-LLM/examples/gpt/requirements.txt (line 2)) (1.13.3)\n",
      "Requirement already satisfied: networkx in /home/workbench/.local/lib/python3.10/site-packages (from torch<=2.4.0,>=2.4.0a0->tensorrt_llm==0.14.0.dev2024100100->-r code/TensorRT-LLM/examples/gpt/requirements.txt (line 2)) (3.3)\n",
      "Requirement already satisfied: nvidia-nvjitlink-cu12 in /home/workbench/.local/lib/python3.10/site-packages (from nvidia-cusolver-cu12==11.4.5.107->torch<=2.4.0,>=2.4.0a0->tensorrt_llm==0.14.0.dev2024100100->-r code/TensorRT-LLM/examples/gpt/requirements.txt (line 2)) (12.6.68)\n",
      "Requirement already satisfied: tokenizers<0.20,>=0.19 in /home/workbench/.local/lib/python3.10/site-packages (from transformers<=4.42.4,>=4.38.2->tensorrt_llm==0.14.0.dev2024100100->-r code/TensorRT-LLM/examples/gpt/requirements.txt (line 2)) (0.19.1)\n",
      "Requirement already satisfied: pyproject_hooks in /home/workbench/.local/lib/python3.10/site-packages (from build->tensorrt_llm==0.14.0.dev2024100100->-r code/TensorRT-LLM/examples/gpt/requirements.txt (line 2)) (1.2.0)\n",
      "Requirement already satisfied: tomli>=1.1.0 in /usr/local/lib/python3.10/dist-packages (from build->tensorrt_llm==0.14.0.dev2024100100->-r code/TensorRT-LLM/examples/gpt/requirements.txt (line 2)) (2.0.1)\n",
      "Collecting multiprocess\n",
      "  Using cached multiprocess-0.70.17-py310-none-any.whl (134 kB)\n",
      "  Downloading multiprocess-0.70.15-py310-none-any.whl (134 kB)\n",
      "\u001b[2K     \u001b[90m━━━━━━━━━━━━━━━━━━━━━━━━━━━━━━━━━━━━━\u001b[0m \u001b[32m134.8/134.8 KB\u001b[0m \u001b[31m707.6 kB/s\u001b[0m eta \u001b[36m0:00:00\u001b[0m00:01\u001b[0m\n",
      "\u001b[?25hRequirement already satisfied: joblib in /home/workbench/.local/lib/python3.10/site-packages (from nltk->rouge_score~=0.1.2->-r code/TensorRT-LLM/examples/gpt/requirements.txt (line 5)) (1.4.2)\n",
      "Requirement already satisfied: coloredlogs in /home/workbench/.local/lib/python3.10/site-packages (from optimum->tensorrt_llm==0.14.0.dev2024100100->-r code/TensorRT-LLM/examples/gpt/requirements.txt (line 2)) (15.0.1)\n",
      "Requirement already satisfied: pytz>=2020.1 in /home/workbench/.local/lib/python3.10/site-packages (from pandas->tensorrt_llm==0.14.0.dev2024100100->-r code/TensorRT-LLM/examples/gpt/requirements.txt (line 2)) (2024.2)\n",
      "Requirement already satisfied: tzdata>=2022.7 in /home/workbench/.local/lib/python3.10/site-packages (from pandas->tensorrt_llm==0.14.0.dev2024100100->-r code/TensorRT-LLM/examples/gpt/requirements.txt (line 2)) (2024.2)\n",
      "Requirement already satisfied: python-dateutil>=2.8.2 in /usr/local/lib/python3.10/dist-packages (from pandas->tensorrt_llm==0.14.0.dev2024100100->-r code/TensorRT-LLM/examples/gpt/requirements.txt (line 2)) (2.8.2)\n",
      "Requirement already satisfied: exceptiongroup>=1.0.2 in /usr/local/lib/python3.10/dist-packages (from anyio<5,>=3.5.0->openai==1.39.0->tensorrt_llm==0.14.0.dev2024100100->-r code/TensorRT-LLM/examples/gpt/requirements.txt (line 2)) (1.2.0)\n",
      "Requirement already satisfied: httpcore==1.* in /home/workbench/.local/lib/python3.10/site-packages (from httpx<1,>=0.23.0->openai==1.39.0->tensorrt_llm==0.14.0.dev2024100100->-r code/TensorRT-LLM/examples/gpt/requirements.txt (line 2)) (1.0.6)\n",
      "Requirement already satisfied: h11<0.15,>=0.13 in /home/workbench/.local/lib/python3.10/site-packages (from httpcore==1.*->httpx<1,>=0.23.0->openai==1.39.0->tensorrt_llm==0.14.0.dev2024100100->-r code/TensorRT-LLM/examples/gpt/requirements.txt (line 2)) (0.14.0)\n",
      "Requirement already satisfied: annotated-types>=0.6.0 in /home/workbench/.local/lib/python3.10/site-packages (from pydantic<3,>=1.9.0->openai==1.39.0->tensorrt_llm==0.14.0.dev2024100100->-r code/TensorRT-LLM/examples/gpt/requirements.txt (line 2)) (0.7.0)\n",
      "Requirement already satisfied: pydantic-core==2.23.4 in /home/workbench/.local/lib/python3.10/site-packages (from pydantic<3,>=1.9.0->openai==1.39.0->tensorrt_llm==0.14.0.dev2024100100->-r code/TensorRT-LLM/examples/gpt/requirements.txt (line 2)) (2.23.4)\n",
      "Requirement already satisfied: humanfriendly>=9.1 in /home/workbench/.local/lib/python3.10/site-packages (from coloredlogs->optimum->tensorrt_llm==0.14.0.dev2024100100->-r code/TensorRT-LLM/examples/gpt/requirements.txt (line 2)) (10.0)\n",
      "Requirement already satisfied: zipp>=3.20 in /home/workbench/.local/lib/python3.10/site-packages (from importlib-metadata->diffusers>=0.27.0->tensorrt_llm==0.14.0.dev2024100100->-r code/TensorRT-LLM/examples/gpt/requirements.txt (line 2)) (3.20.2)\n",
      "Requirement already satisfied: MarkupSafe>=2.0 in /usr/local/lib/python3.10/dist-packages (from jinja2->torch<=2.4.0,>=2.4.0a0->tensorrt_llm==0.14.0.dev2024100100->-r code/TensorRT-LLM/examples/gpt/requirements.txt (line 2)) (2.1.3)\n",
      "Requirement already satisfied: markdown-it-py>=2.2.0 in /home/workbench/.local/lib/python3.10/site-packages (from rich->nvidia-modelopt~=0.15.0->tensorrt_llm==0.14.0.dev2024100100->-r code/TensorRT-LLM/examples/gpt/requirements.txt (line 2)) (3.0.0)\n",
      "Requirement already satisfied: pygments<3.0.0,>=2.13.0 in /usr/local/lib/python3.10/dist-packages (from rich->nvidia-modelopt~=0.15.0->tensorrt_llm==0.14.0.dev2024100100->-r code/TensorRT-LLM/examples/gpt/requirements.txt (line 2)) (2.17.2)\n",
      "Requirement already satisfied: mdurl~=0.1 in /home/workbench/.local/lib/python3.10/site-packages (from markdown-it-py>=2.2.0->rich->nvidia-modelopt~=0.15.0->tensorrt_llm==0.14.0.dev2024100100->-r code/TensorRT-LLM/examples/gpt/requirements.txt (line 2)) (0.1.2)\n",
      "Building wheels for collected packages: rouge_score\n",
      "  Building wheel for rouge_score (setup.py) ... \u001b[?25ldone\n",
      "\u001b[?25h  Created wheel for rouge_score: filename=rouge_score-0.1.2-py3-none-any.whl size=24937 sha256=2b233f860529a3798d4983b695c5541dd3a65dcaccdda58239d1e8a376ef6fc3\n",
      "  Stored in directory: /home/workbench/.cache/pip/wheels/5f/dd/89/461065a73be61a532ff8599a28e9beef17985c9e9c31e541b4\n",
      "Successfully built rouge_score\n",
      "Installing collected packages: SentencePiece, pyarrow-hotfix, nltk, fsspec, dill, rouge_score, multiprocess, datasets\n",
      "  Attempting uninstall: SentencePiece\n",
      "    Found existing installation: sentencepiece 0.2.0\n",
      "    Uninstalling sentencepiece-0.2.0:\n",
      "      Successfully uninstalled sentencepiece-0.2.0\n",
      "  Attempting uninstall: fsspec\n",
      "    Found existing installation: fsspec 2024.6.1\n",
      "    Uninstalling fsspec-2024.6.1:\n",
      "      Successfully uninstalled fsspec-2024.6.1\n",
      "  Attempting uninstall: dill\n",
      "    Found existing installation: dill 0.3.8\n",
      "    Uninstalling dill-0.3.8:\n",
      "      Successfully uninstalled dill-0.3.8\n",
      "  Attempting uninstall: multiprocess\n",
      "    Found existing installation: multiprocess 0.70.16\n",
      "    Uninstalling multiprocess-0.70.16:\n",
      "      Successfully uninstalled multiprocess-0.70.16\n",
      "  Attempting uninstall: datasets\n",
      "    Found existing installation: datasets 3.0.1\n",
      "    Uninstalling datasets-3.0.1:\n",
      "      Successfully uninstalled datasets-3.0.1\n",
      "Successfully installed SentencePiece-0.1.99 datasets-2.14.7 dill-0.3.7 fsspec-2023.10.0 multiprocess-0.70.15 nltk-3.9.1 pyarrow-hotfix-0.6 rouge_score-0.1.2\n",
      "Note: you may need to restart the kernel to use updated packages.\n"
     ]
    }
   ],
   "source": [
    "pip install -r code/TensorRT-LLM/examples/gpt/requirements.txt"
   ]
  },
  {
   "cell_type": "code",
   "execution_count": 3,
   "id": "9bcad855-71b5-44ac-8dbe-b58186f21535",
   "metadata": {},
   "outputs": [
    {
     "name": "stdout",
     "output_type": "stream",
     "text": [
      "Defaulting to user installation because normal site-packages is not writeable\n",
      "Collecting pickleshare\n",
      "  Downloading pickleshare-0.7.5-py2.py3-none-any.whl (6.9 kB)\n",
      "Installing collected packages: pickleshare\n",
      "Successfully installed pickleshare-0.7.5\n",
      "Note: you may need to restart the kernel to use updated packages.\n"
     ]
    }
   ],
   "source": [
    "pip install pickleshare"
   ]
  },
  {
   "cell_type": "code",
   "execution_count": 43,
   "id": "b6c3bbea-b266-47aa-840c-fdfec30f15dc",
   "metadata": {},
   "outputs": [
    {
     "name": "stdout",
     "output_type": "stream",
     "text": [
      "Defaulting to user installation because normal site-packages is not writeable\n",
      "Collecting Cython\n",
      "  Using cached Cython-3.0.11-cp310-cp310-manylinux_2_17_x86_64.manylinux2014_x86_64.whl (3.6 MB)\n",
      "Installing collected packages: Cython\n",
      "Successfully installed Cython-3.0.11\n",
      "Note: you may need to restart the kernel to use updated packages.\n"
     ]
    }
   ],
   "source": [
    "pip install Cython"
   ]
  },
  {
   "cell_type": "code",
   "execution_count": 9,
   "id": "80b6cdd6-6c11-4036-a5fb-05a9140a18e3",
   "metadata": {},
   "outputs": [
    {
     "name": "stdout",
     "output_type": "stream",
     "text": [
      "/project/code/TensorRT-LLM/examples/gpt\n"
     ]
    }
   ],
   "source": [
    "cd code/TensorRT-LLM/examples/gpt"
   ]
  },
  {
   "cell_type": "code",
   "execution_count": 12,
   "id": "92205403-a2b6-4bf5-9fb4-b5a749efc0c6",
   "metadata": {},
   "outputs": [
    {
     "name": "stdout",
     "output_type": "stream",
     "text": [
      "Cloning into './gpt2'...\n",
      "remote: Enumerating objects: 87, done.\u001b[K\n",
      "remote: Counting objects: 100% (21/21), done.\u001b[K\n",
      "remote: Compressing objects: 100% (7/7), done.\u001b[K\n",
      "remote: Total 87 (delta 17), reused 13 (delta 13), pack-reused 66 (from 1)\u001b[K\n",
      "Unpacking objects: 100% (87/87), 1.65 MiB | 2.22 MiB/s, done.\n",
      "Filtering content: 100% (11/11), 5.23 GiB | 2.13 MiB/s, done.\n"
     ]
    }
   ],
   "source": [
    "mkdir -p ./gpt2 && git clone https://huggingface.co/openai-community/gpt2 ./gpt2"
   ]
  },
  {
   "cell_type": "code",
   "execution_count": 13,
   "id": "0a42e3e7-b43b-42da-b077-902923b29fbe",
   "metadata": {},
   "outputs": [
    {
     "name": "stdout",
     "output_type": "stream",
     "text": [
      "/project/code/TensorRT-LLM/examples/quantization\n"
     ]
    }
   ],
   "source": [
    "cd ../quantization"
   ]
  },
  {
   "cell_type": "code",
   "execution_count": 1,
   "id": "280c7624-970d-4103-a335-ee6f006ce05e",
   "metadata": {
    "scrolled": true
   },
   "outputs": [
    {
     "name": "stdout",
     "output_type": "stream",
     "text": [
      "Defaulting to user installation because normal site-packages is not writeable\n",
      "Requirement already satisfied: jupyterlab>3.0 in /usr/local/lib/python3.10/dist-packages (from -r requirements.txt (line 1)) (4.0.7)\n",
      "Requirement already satisfied: jupyter-lsp>=2.0.0 in /usr/local/lib/python3.10/dist-packages (from jupyterlab>3.0->-r requirements.txt (line 1)) (2.2.1)\n",
      "Requirement already satisfied: notebook-shim>=0.2 in /usr/local/lib/python3.10/dist-packages (from jupyterlab>3.0->-r requirements.txt (line 1)) (0.2.3)\n",
      "Requirement already satisfied: tornado>=6.2.0 in /usr/local/lib/python3.10/dist-packages (from jupyterlab>3.0->-r requirements.txt (line 1)) (6.4)\n",
      "Requirement already satisfied: traitlets in /usr/local/lib/python3.10/dist-packages (from jupyterlab>3.0->-r requirements.txt (line 1)) (5.14.0)\n",
      "Requirement already satisfied: jupyter-server<3,>=2.4.0 in /usr/local/lib/python3.10/dist-packages (from jupyterlab>3.0->-r requirements.txt (line 1)) (2.12.1)\n",
      "Requirement already satisfied: ipykernel in /usr/local/lib/python3.10/dist-packages (from jupyterlab>3.0->-r requirements.txt (line 1)) (6.27.1)\n",
      "Requirement already satisfied: jupyter-core in /usr/local/lib/python3.10/dist-packages (from jupyterlab>3.0->-r requirements.txt (line 1)) (5.5.0)\n",
      "Requirement already satisfied: jinja2>=3.0.3 in /usr/local/lib/python3.10/dist-packages (from jupyterlab>3.0->-r requirements.txt (line 1)) (3.1.2)\n",
      "Requirement already satisfied: jupyterlab-server<3,>=2.19.0 in /usr/local/lib/python3.10/dist-packages (from jupyterlab>3.0->-r requirements.txt (line 1)) (2.25.2)\n",
      "Requirement already satisfied: packaging in /usr/local/lib/python3.10/dist-packages (from jupyterlab>3.0->-r requirements.txt (line 1)) (23.2)\n",
      "Requirement already satisfied: async-lru>=1.0.0 in /usr/local/lib/python3.10/dist-packages (from jupyterlab>3.0->-r requirements.txt (line 1)) (2.0.4)\n",
      "Requirement already satisfied: tomli in /usr/local/lib/python3.10/dist-packages (from jupyterlab>3.0->-r requirements.txt (line 1)) (2.0.1)\n",
      "Requirement already satisfied: typing-extensions>=4.0.0 in /usr/local/lib/python3.10/dist-packages (from async-lru>=1.0.0->jupyterlab>3.0->-r requirements.txt (line 1)) (4.9.0)\n",
      "Requirement already satisfied: MarkupSafe>=2.0 in /usr/local/lib/python3.10/dist-packages (from jinja2>=3.0.3->jupyterlab>3.0->-r requirements.txt (line 1)) (2.1.3)\n",
      "Requirement already satisfied: nbconvert>=6.4.4 in /usr/local/lib/python3.10/dist-packages (from jupyter-server<3,>=2.4.0->jupyterlab>3.0->-r requirements.txt (line 1)) (7.12.0)\n",
      "Requirement already satisfied: terminado>=0.8.3 in /usr/local/lib/python3.10/dist-packages (from jupyter-server<3,>=2.4.0->jupyterlab>3.0->-r requirements.txt (line 1)) (0.18.0)\n",
      "Requirement already satisfied: jupyter-client>=7.4.4 in /usr/local/lib/python3.10/dist-packages (from jupyter-server<3,>=2.4.0->jupyterlab>3.0->-r requirements.txt (line 1)) (8.6.0)\n",
      "Requirement already satisfied: websocket-client in /usr/local/lib/python3.10/dist-packages (from jupyter-server<3,>=2.4.0->jupyterlab>3.0->-r requirements.txt (line 1)) (1.7.0)\n",
      "Requirement already satisfied: jupyter-server-terminals in /usr/local/lib/python3.10/dist-packages (from jupyter-server<3,>=2.4.0->jupyterlab>3.0->-r requirements.txt (line 1)) (0.5.0)\n",
      "Requirement already satisfied: nbformat>=5.3.0 in /usr/local/lib/python3.10/dist-packages (from jupyter-server<3,>=2.4.0->jupyterlab>3.0->-r requirements.txt (line 1)) (5.9.2)\n",
      "Requirement already satisfied: pyzmq>=24 in /usr/local/lib/python3.10/dist-packages (from jupyter-server<3,>=2.4.0->jupyterlab>3.0->-r requirements.txt (line 1)) (25.1.2)\n",
      "Requirement already satisfied: anyio>=3.1.0 in /usr/local/lib/python3.10/dist-packages (from jupyter-server<3,>=2.4.0->jupyterlab>3.0->-r requirements.txt (line 1)) (4.1.0)\n",
      "Requirement already satisfied: overrides in /usr/local/lib/python3.10/dist-packages (from jupyter-server<3,>=2.4.0->jupyterlab>3.0->-r requirements.txt (line 1)) (7.4.0)\n",
      "Requirement already satisfied: send2trash>=1.8.2 in /usr/local/lib/python3.10/dist-packages (from jupyter-server<3,>=2.4.0->jupyterlab>3.0->-r requirements.txt (line 1)) (1.8.2)\n",
      "Requirement already satisfied: jupyter-events>=0.9.0 in /usr/local/lib/python3.10/dist-packages (from jupyter-server<3,>=2.4.0->jupyterlab>3.0->-r requirements.txt (line 1)) (0.9.0)\n",
      "Requirement already satisfied: argon2-cffi in /usr/local/lib/python3.10/dist-packages (from jupyter-server<3,>=2.4.0->jupyterlab>3.0->-r requirements.txt (line 1)) (23.1.0)\n",
      "Requirement already satisfied: prometheus-client in /usr/local/lib/python3.10/dist-packages (from jupyter-server<3,>=2.4.0->jupyterlab>3.0->-r requirements.txt (line 1)) (0.19.0)\n",
      "Requirement already satisfied: platformdirs>=2.5 in /usr/local/lib/python3.10/dist-packages (from jupyter-core->jupyterlab>3.0->-r requirements.txt (line 1)) (4.1.0)\n",
      "Requirement already satisfied: jsonschema>=4.18.0 in /usr/local/lib/python3.10/dist-packages (from jupyterlab-server<3,>=2.19.0->jupyterlab>3.0->-r requirements.txt (line 1)) (4.20.0)\n",
      "Requirement already satisfied: json5>=0.9.0 in /usr/local/lib/python3.10/dist-packages (from jupyterlab-server<3,>=2.19.0->jupyterlab>3.0->-r requirements.txt (line 1)) (0.9.14)\n",
      "Requirement already satisfied: requests>=2.31 in /home/workbench/.local/lib/python3.10/site-packages (from jupyterlab-server<3,>=2.19.0->jupyterlab>3.0->-r requirements.txt (line 1)) (2.32.3)\n",
      "Requirement already satisfied: babel>=2.10 in /usr/local/lib/python3.10/dist-packages (from jupyterlab-server<3,>=2.19.0->jupyterlab>3.0->-r requirements.txt (line 1)) (2.14.0)\n",
      "Requirement already satisfied: comm>=0.1.1 in /usr/local/lib/python3.10/dist-packages (from ipykernel->jupyterlab>3.0->-r requirements.txt (line 1)) (0.2.0)\n",
      "Requirement already satisfied: ipython>=7.23.1 in /usr/local/lib/python3.10/dist-packages (from ipykernel->jupyterlab>3.0->-r requirements.txt (line 1)) (8.18.1)\n",
      "Requirement already satisfied: nest-asyncio in /usr/local/lib/python3.10/dist-packages (from ipykernel->jupyterlab>3.0->-r requirements.txt (line 1)) (1.5.8)\n",
      "Requirement already satisfied: psutil in /usr/local/lib/python3.10/dist-packages (from ipykernel->jupyterlab>3.0->-r requirements.txt (line 1)) (5.9.6)\n",
      "Requirement already satisfied: debugpy>=1.6.5 in /usr/local/lib/python3.10/dist-packages (from ipykernel->jupyterlab>3.0->-r requirements.txt (line 1)) (1.8.0)\n",
      "Requirement already satisfied: matplotlib-inline>=0.1 in /usr/local/lib/python3.10/dist-packages (from ipykernel->jupyterlab>3.0->-r requirements.txt (line 1)) (0.1.6)\n",
      "Requirement already satisfied: idna>=2.8 in /usr/local/lib/python3.10/dist-packages (from anyio>=3.1.0->jupyter-server<3,>=2.4.0->jupyterlab>3.0->-r requirements.txt (line 1)) (3.6)\n",
      "Requirement already satisfied: exceptiongroup>=1.0.2 in /usr/local/lib/python3.10/dist-packages (from anyio>=3.1.0->jupyter-server<3,>=2.4.0->jupyterlab>3.0->-r requirements.txt (line 1)) (1.2.0)\n",
      "Requirement already satisfied: sniffio>=1.1 in /usr/local/lib/python3.10/dist-packages (from anyio>=3.1.0->jupyter-server<3,>=2.4.0->jupyterlab>3.0->-r requirements.txt (line 1)) (1.3.0)\n",
      "Requirement already satisfied: jedi>=0.16 in /usr/local/lib/python3.10/dist-packages (from ipython>=7.23.1->ipykernel->jupyterlab>3.0->-r requirements.txt (line 1)) (0.19.1)\n",
      "Requirement already satisfied: prompt-toolkit<3.1.0,>=3.0.41 in /usr/local/lib/python3.10/dist-packages (from ipython>=7.23.1->ipykernel->jupyterlab>3.0->-r requirements.txt (line 1)) (3.0.43)\n",
      "Requirement already satisfied: pexpect>4.3 in /usr/local/lib/python3.10/dist-packages (from ipython>=7.23.1->ipykernel->jupyterlab>3.0->-r requirements.txt (line 1)) (4.9.0)\n",
      "Requirement already satisfied: decorator in /usr/local/lib/python3.10/dist-packages (from ipython>=7.23.1->ipykernel->jupyterlab>3.0->-r requirements.txt (line 1)) (5.1.1)\n",
      "Requirement already satisfied: stack-data in /usr/local/lib/python3.10/dist-packages (from ipython>=7.23.1->ipykernel->jupyterlab>3.0->-r requirements.txt (line 1)) (0.6.3)\n",
      "Requirement already satisfied: pygments>=2.4.0 in /usr/local/lib/python3.10/dist-packages (from ipython>=7.23.1->ipykernel->jupyterlab>3.0->-r requirements.txt (line 1)) (2.17.2)\n",
      "Requirement already satisfied: attrs>=22.2.0 in /usr/local/lib/python3.10/dist-packages (from jsonschema>=4.18.0->jupyterlab-server<3,>=2.19.0->jupyterlab>3.0->-r requirements.txt (line 1)) (23.1.0)\n",
      "Requirement already satisfied: referencing>=0.28.4 in /usr/local/lib/python3.10/dist-packages (from jsonschema>=4.18.0->jupyterlab-server<3,>=2.19.0->jupyterlab>3.0->-r requirements.txt (line 1)) (0.32.0)\n",
      "Requirement already satisfied: jsonschema-specifications>=2023.03.6 in /usr/local/lib/python3.10/dist-packages (from jsonschema>=4.18.0->jupyterlab-server<3,>=2.19.0->jupyterlab>3.0->-r requirements.txt (line 1)) (2023.11.2)\n",
      "Requirement already satisfied: rpds-py>=0.7.1 in /usr/local/lib/python3.10/dist-packages (from jsonschema>=4.18.0->jupyterlab-server<3,>=2.19.0->jupyterlab>3.0->-r requirements.txt (line 1)) (0.13.2)\n",
      "Requirement already satisfied: python-dateutil>=2.8.2 in /usr/local/lib/python3.10/dist-packages (from jupyter-client>=7.4.4->jupyter-server<3,>=2.4.0->jupyterlab>3.0->-r requirements.txt (line 1)) (2.8.2)\n",
      "Requirement already satisfied: pyyaml>=5.3 in /usr/local/lib/python3.10/dist-packages (from jupyter-events>=0.9.0->jupyter-server<3,>=2.4.0->jupyterlab>3.0->-r requirements.txt (line 1)) (6.0.1)\n",
      "Requirement already satisfied: rfc3339-validator in /usr/local/lib/python3.10/dist-packages (from jupyter-events>=0.9.0->jupyter-server<3,>=2.4.0->jupyterlab>3.0->-r requirements.txt (line 1)) (0.1.4)\n",
      "Requirement already satisfied: rfc3986-validator>=0.1.1 in /usr/local/lib/python3.10/dist-packages (from jupyter-events>=0.9.0->jupyter-server<3,>=2.4.0->jupyterlab>3.0->-r requirements.txt (line 1)) (0.1.1)\n",
      "Requirement already satisfied: python-json-logger>=2.0.4 in /usr/local/lib/python3.10/dist-packages (from jupyter-events>=0.9.0->jupyter-server<3,>=2.4.0->jupyterlab>3.0->-r requirements.txt (line 1)) (2.0.7)\n",
      "Requirement already satisfied: defusedxml in /usr/local/lib/python3.10/dist-packages (from nbconvert>=6.4.4->jupyter-server<3,>=2.4.0->jupyterlab>3.0->-r requirements.txt (line 1)) (0.7.1)\n",
      "Requirement already satisfied: bleach!=5.0.0 in /usr/local/lib/python3.10/dist-packages (from nbconvert>=6.4.4->jupyter-server<3,>=2.4.0->jupyterlab>3.0->-r requirements.txt (line 1)) (6.1.0)\n",
      "Requirement already satisfied: jupyterlab-pygments in /usr/local/lib/python3.10/dist-packages (from nbconvert>=6.4.4->jupyter-server<3,>=2.4.0->jupyterlab>3.0->-r requirements.txt (line 1)) (0.3.0)\n",
      "Requirement already satisfied: mistune<4,>=2.0.3 in /usr/local/lib/python3.10/dist-packages (from nbconvert>=6.4.4->jupyter-server<3,>=2.4.0->jupyterlab>3.0->-r requirements.txt (line 1)) (3.0.2)\n",
      "Requirement already satisfied: beautifulsoup4 in /usr/local/lib/python3.10/dist-packages (from nbconvert>=6.4.4->jupyter-server<3,>=2.4.0->jupyterlab>3.0->-r requirements.txt (line 1)) (4.12.2)\n",
      "Requirement already satisfied: pandocfilters>=1.4.1 in /usr/local/lib/python3.10/dist-packages (from nbconvert>=6.4.4->jupyter-server<3,>=2.4.0->jupyterlab>3.0->-r requirements.txt (line 1)) (1.5.0)\n",
      "Requirement already satisfied: tinycss2 in /usr/local/lib/python3.10/dist-packages (from nbconvert>=6.4.4->jupyter-server<3,>=2.4.0->jupyterlab>3.0->-r requirements.txt (line 1)) (1.2.1)\n",
      "Requirement already satisfied: nbclient>=0.5.0 in /usr/local/lib/python3.10/dist-packages (from nbconvert>=6.4.4->jupyter-server<3,>=2.4.0->jupyterlab>3.0->-r requirements.txt (line 1)) (0.9.0)\n",
      "Requirement already satisfied: fastjsonschema in /usr/local/lib/python3.10/dist-packages (from nbformat>=5.3.0->jupyter-server<3,>=2.4.0->jupyterlab>3.0->-r requirements.txt (line 1)) (2.19.0)\n",
      "Requirement already satisfied: urllib3<3,>=1.21.1 in /usr/local/lib/python3.10/dist-packages (from requests>=2.31->jupyterlab-server<3,>=2.19.0->jupyterlab>3.0->-r requirements.txt (line 1)) (2.1.0)\n",
      "Requirement already satisfied: certifi>=2017.4.17 in /usr/local/lib/python3.10/dist-packages (from requests>=2.31->jupyterlab-server<3,>=2.19.0->jupyterlab>3.0->-r requirements.txt (line 1)) (2023.11.17)\n",
      "Requirement already satisfied: charset-normalizer<4,>=2 in /usr/local/lib/python3.10/dist-packages (from requests>=2.31->jupyterlab-server<3,>=2.19.0->jupyterlab>3.0->-r requirements.txt (line 1)) (3.3.2)\n",
      "Requirement already satisfied: ptyprocess in /usr/local/lib/python3.10/dist-packages (from terminado>=0.8.3->jupyter-server<3,>=2.4.0->jupyterlab>3.0->-r requirements.txt (line 1)) (0.7.0)\n",
      "Requirement already satisfied: argon2-cffi-bindings in /usr/local/lib/python3.10/dist-packages (from argon2-cffi->jupyter-server<3,>=2.4.0->jupyterlab>3.0->-r requirements.txt (line 1)) (21.2.0)\n",
      "Requirement already satisfied: webencodings in /usr/local/lib/python3.10/dist-packages (from bleach!=5.0.0->nbconvert>=6.4.4->jupyter-server<3,>=2.4.0->jupyterlab>3.0->-r requirements.txt (line 1)) (0.5.1)\n",
      "Requirement already satisfied: six>=1.9.0 in /usr/local/lib/python3.10/dist-packages (from bleach!=5.0.0->nbconvert>=6.4.4->jupyter-server<3,>=2.4.0->jupyterlab>3.0->-r requirements.txt (line 1)) (1.16.0)\n",
      "Requirement already satisfied: parso<0.9.0,>=0.8.3 in /usr/local/lib/python3.10/dist-packages (from jedi>=0.16->ipython>=7.23.1->ipykernel->jupyterlab>3.0->-r requirements.txt (line 1)) (0.8.3)\n",
      "Requirement already satisfied: jsonpointer>1.13 in /usr/local/lib/python3.10/dist-packages (from jsonschema>=4.18.0->jupyterlab-server<3,>=2.19.0->jupyterlab>3.0->-r requirements.txt (line 1)) (2.4)\n",
      "Requirement already satisfied: uri-template in /usr/local/lib/python3.10/dist-packages (from jsonschema>=4.18.0->jupyterlab-server<3,>=2.19.0->jupyterlab>3.0->-r requirements.txt (line 1)) (1.3.0)\n",
      "Requirement already satisfied: webcolors>=1.11 in /usr/local/lib/python3.10/dist-packages (from jsonschema>=4.18.0->jupyterlab-server<3,>=2.19.0->jupyterlab>3.0->-r requirements.txt (line 1)) (1.13)\n",
      "Requirement already satisfied: fqdn in /usr/local/lib/python3.10/dist-packages (from jsonschema>=4.18.0->jupyterlab-server<3,>=2.19.0->jupyterlab>3.0->-r requirements.txt (line 1)) (1.5.1)\n",
      "Requirement already satisfied: isoduration in /usr/local/lib/python3.10/dist-packages (from jsonschema>=4.18.0->jupyterlab-server<3,>=2.19.0->jupyterlab>3.0->-r requirements.txt (line 1)) (20.11.0)\n",
      "Requirement already satisfied: wcwidth in /usr/local/lib/python3.10/dist-packages (from prompt-toolkit<3.1.0,>=3.0.41->ipython>=7.23.1->ipykernel->jupyterlab>3.0->-r requirements.txt (line 1)) (0.2.12)\n",
      "Requirement already satisfied: cffi>=1.0.1 in /usr/local/lib/python3.10/dist-packages (from argon2-cffi-bindings->argon2-cffi->jupyter-server<3,>=2.4.0->jupyterlab>3.0->-r requirements.txt (line 1)) (1.16.0)\n",
      "Requirement already satisfied: soupsieve>1.2 in /usr/local/lib/python3.10/dist-packages (from beautifulsoup4->nbconvert>=6.4.4->jupyter-server<3,>=2.4.0->jupyterlab>3.0->-r requirements.txt (line 1)) (2.5)\n",
      "Requirement already satisfied: executing>=1.2.0 in /usr/local/lib/python3.10/dist-packages (from stack-data->ipython>=7.23.1->ipykernel->jupyterlab>3.0->-r requirements.txt (line 1)) (2.0.1)\n",
      "Requirement already satisfied: asttokens>=2.1.0 in /usr/local/lib/python3.10/dist-packages (from stack-data->ipython>=7.23.1->ipykernel->jupyterlab>3.0->-r requirements.txt (line 1)) (2.4.1)\n",
      "Requirement already satisfied: pure-eval in /usr/local/lib/python3.10/dist-packages (from stack-data->ipython>=7.23.1->ipykernel->jupyterlab>3.0->-r requirements.txt (line 1)) (0.2.2)\n",
      "Requirement already satisfied: pycparser in /usr/local/lib/python3.10/dist-packages (from cffi>=1.0.1->argon2-cffi-bindings->argon2-cffi->jupyter-server<3,>=2.4.0->jupyterlab>3.0->-r requirements.txt (line 1)) (2.21)\n",
      "Requirement already satisfied: arrow>=0.15.0 in /usr/local/lib/python3.10/dist-packages (from isoduration->jsonschema>=4.18.0->jupyterlab-server<3,>=2.19.0->jupyterlab>3.0->-r requirements.txt (line 1)) (1.3.0)\n",
      "Requirement already satisfied: types-python-dateutil>=2.8.10 in /usr/local/lib/python3.10/dist-packages (from arrow>=0.15.0->isoduration->jsonschema>=4.18.0->jupyterlab-server<3,>=2.19.0->jupyterlab>3.0->-r requirements.txt (line 1)) (2.8.19.14)\n",
      "Note: you may need to restart the kernel to use updated packages.\n"
     ]
    }
   ],
   "source": [
    "pip install -r requirements.txt"
   ]
  },
  {
   "cell_type": "code",
   "execution_count": 15,
   "id": "ff9d4e8f-aca4-4780-b5ea-db666a043559",
   "metadata": {},
   "outputs": [
    {
     "name": "stderr",
     "output_type": "stream",
     "text": [
      "[NeMo W 2024-10-02 00:39:39 nemo_logging:349] /home/workbench/.local/lib/python3.10/site-packages/datasets/table.py:1421: FutureWarning: promote has been superseded by promote_options='default'.\n",
      "      table = cls._concat_blocks(blocks, axis=0)\n",
      "    \n",
      "[NeMo W 2024-10-02 00:41:18 nemo_logging:349] /home/workbench/.local/lib/python3.10/site-packages/modelopt/torch/quantization/model_quant.py:131: DeprecationWarning: forward_loop should take model as argument, but got forward_loop without any arguments. This usage will be deprecated in future versions.\n",
      "      return calibrate(model, config[\"algorithm\"], forward_loop=forward_loop)\n",
      "    \n"
     ]
    },
    {
     "name": "stdout",
     "output_type": "stream",
     "text": [
      "Inserted 147 quantizers\n",
      "Caching activation statistics for awq_lite...\n",
      "Searching awq_lite parameters...\n",
      "Padding vocab_embedding and lm_head for AWQ weights export\n",
      "current rank: 0, tp rank: 0, pp rank: 0\n"
     ]
    }
   ],
   "source": [
    "%run quantize.py --model_dir ../gpt/gpt2 --qformat int4_awq --awq_block_size 64 --tp_size 1 --output_dir ../gpt/gpt2/gpt2_int4_awq"
   ]
  },
  {
   "cell_type": "code",
   "execution_count": 16,
   "id": "b201ee01-87f0-4a2e-8afb-7b7827ccdfec",
   "metadata": {},
   "outputs": [
    {
     "name": "stdout",
     "output_type": "stream",
     "text": [
      "/project/code/TensorRT-LLM/examples/gpt\n"
     ]
    }
   ],
   "source": [
    "cd ../gpt"
   ]
  },
  {
   "cell_type": "code",
   "execution_count": null,
   "id": "bbedf4be-f5ba-447c-b476-ae7281aeedd8",
   "metadata": {},
   "outputs": [],
   "source": [
    "# Go to Terminal to continue..."
   ]
  },
  {
   "cell_type": "code",
   "execution_count": null,
   "id": "3303b78d-2e0d-4d1c-95a2-b5542270dafb",
   "metadata": {},
   "outputs": [],
   "source": [
    "# If you successfully build TensorRT-LLM in Terminal, you will see the output like:\n",
    "# ......\n",
    "# [03/12/2024-10:21:08] [TRT] [I] Engine generation completed in 35.9738 seconds.\n",
    "# [03/12/2024-10:21:08] [TRT] [I] [MemUsageStats] Peak memory usage of TRT CPU/GPU memory allocators: CPU 212 MiB, GPU 775 MiB\n",
    "# [03/12/2024-10:21:08] [TRT] [I] [MemUsageChange] TensorRT-managed allocation in building engine: CPU +0, GPU +775, now: CPU 0, GPU 775 (MiB)\n",
    "# [03/12/2024-10:21:09] [TRT] [I] [MemUsageStats] Peak memory usage during Engine building and serialization: CPU: 6600 MiB\n",
    "# [03/12/2024-10:21:09] [TRT-LLM] [I] Total time of building Unnamed Network 0: 00:00:36\n",
    "# [03/12/2024-10:21:09] [TRT-LLM] [I] Serializing engine to gpt2_int4_awq/trtllm-engine/trrank0.engine...\n",
    "# [03/12/2024-10:21:11] [TRT-LLM] [I] Engine serialized. Total time: 00:00:02\n",
    "# [03/12/2024-10:21:11] [TRT-LLM] [I] Total time of building all engines: 00:00:41"
   ]
  },
  {
   "cell_type": "code",
   "execution_count": 21,
   "id": "cd891d6f-6625-4ac3-962f-f54bce9eaa60",
   "metadata": {},
   "outputs": [
    {
     "name": "stdout",
     "output_type": "stream",
     "text": [
      "/project/code/TensorRT-LLM/examples\n"
     ]
    }
   ],
   "source": [
    "cd .."
   ]
  },
  {
   "cell_type": "code",
   "execution_count": null,
   "id": "97e883fb-819c-4dff-80d8-29098ba22cac",
   "metadata": {},
   "outputs": [],
   "source": [
    "%run run.py --engine_dir gpt/gpt2_int4_awq/trtllm-engine"
   ]
  },
  {
   "cell_type": "code",
   "execution_count": null,
   "id": "a183cb50-db33-434a-bc9d-cabee58e42f1",
   "metadata": {},
   "outputs": [],
   "source": [
    "# If the engines are run successfully, you will see output like:\n",
    "# ......\n",
    "# Input [Text 0]: \"Born in north-east France, Soyer trained as a\"\n",
    "# Output [Text 0 Beam 0]: \" chef before moving to London in the early\""
   ]
  }
 ],
 "metadata": {
  "kernelspec": {
   "display_name": "Python 3 (ipykernel)",
   "language": "python",
   "name": "python3"
  },
  "language_info": {
   "codemirror_mode": {
    "name": "ipython",
    "version": 3
   },
   "file_extension": ".py",
   "mimetype": "text/x-python",
   "name": "python",
   "nbconvert_exporter": "python",
   "pygments_lexer": "ipython3",
   "version": "3.10.12"
  }
 },
 "nbformat": 4,
 "nbformat_minor": 5
}
